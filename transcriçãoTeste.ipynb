{
  "nbformat": 4,
  "nbformat_minor": 0,
  "metadata": {
    "colab": {
      "provenance": [],
      "authorship_tag": "ABX9TyP6u1mx+4YTVtjjB8WeMzjC",
      "include_colab_link": true
    },
    "kernelspec": {
      "name": "python3",
      "display_name": "Python 3"
    },
    "language_info": {
      "name": "python"
    }
  },
  "cells": [
    {
      "cell_type": "markdown",
      "metadata": {
        "id": "view-in-github",
        "colab_type": "text"
      },
      "source": [
        "<a href=\"https://colab.research.google.com/github/euquedisseds/codigoseqd/blob/main/transcri%C3%A7%C3%A3oTeste.ipynb\" target=\"_parent\"><img src=\"https://colab.research.google.com/assets/colab-badge.svg\" alt=\"Open In Colab\"/></a>"
      ]
    },
    {
      "cell_type": "markdown",
      "source": [
        "*Código base para transcrição*\n",
        "\n",
        "Apresento abaixo o código base para transcrição esse código poderá ser rodado no Colab da forma como se encontra"
      ],
      "metadata": {
        "id": "Aw9xFNQ-VP5x"
      }
    },
    {
      "cell_type": "markdown",
      "source": [
        "\n",
        "\n",
        "```\n",
        "Código para puxar o Whisper, ferramenta da OpenAI que iremos usar para a transcrição dos arquivos\n",
        "```\n",
        "\n"
      ],
      "metadata": {
        "id": "zI7OJBM3WLpm"
      }
    },
    {
      "cell_type": "code",
      "execution_count": 1,
      "metadata": {
        "colab": {
          "base_uri": "https://localhost:8080/"
        },
        "id": "tpbXWBqLwoPk",
        "outputId": "029daf98-8d8f-47c8-c688-a7674ebd74cc"
      },
    {
      "cell_type": "markdown",
      "source": [
        "A célula seguinte irá baixar a ferramenta Whisper e confeturar o desempenho desejado. Ela pode demorar, por isso separei ela no processamento (quando roda na mesma célula no Jupyter, isso às vezes quebra o Kernel)"
      ],
      "metadata": {
        "id": "03lTTVUiWZjk"
      }
    },
    {
      "cell_type": "code",
      "source": [
        "# Importar o Whisper\n",
        "import whisper\n",
        "\n",
        "# Configuração do modelo (use 'base', 'medium', 'large' dependendo do desempenho desejado)\n",
        "model = whisper.load_model(\"large\")"
      ],
      "metadata": {
        "colab": {
          "base_uri": "https://localhost:8080/"
        },
        "id": "9aonGazEWBqE",
        "outputId": "20235963-de88-4664-e332-98f9fff5f8e1"
      },
      "execution_count": 2,
      "outputs": [
        {
          "output_type": "stream",
          "name": "stderr",
          "text": [
            "100%|█████████████████████████████████████| 2.88G/2.88G [01:03<00:00, 49.0MiB/s]\n",
            "/usr/local/lib/python3.11/dist-packages/whisper/__init__.py:150: FutureWarning: You are using `torch.load` with `weights_only=False` (the current default value), which uses the default pickle module implicitly. It is possible to construct malicious pickle data which will execute arbitrary code during unpickling (See https://github.com/pytorch/pytorch/blob/main/SECURITY.md#untrusted-models for more details). In a future release, the default value for `weights_only` will be flipped to `True`. This limits the functions that could be executed during unpickling. Arbitrary objects will no longer be allowed to be loaded via this mode unless they are explicitly allowlisted by the user via `torch.serialization.add_safe_globals`. We recommend you start setting `weights_only=True` for any use case where you don't have full control of the loaded file. Please open an issue on GitHub for any issues related to this experimental feature.\n",
            "  checkpoint = torch.load(fp, map_location=device)\n"
          ]
        }
      ]
    },
    {
      "cell_type": "markdown",
      "source": [
        "Uma vez importado o Whisper e configurado o modelo, é hora de se fazer a transcrição. Quando ela for encerrada, vai aparecer o arquivo ao lado."
      ],
      "metadata": {
        "id": "rpye5pkLW0h7"
      }
    },
    {
      "cell_type": "code",
      "source": [
        "\n",
        "# Nome do arquivo de áudio/vídeo\n",
        "audio_file = \"2025_01_22-08_31_43-digitpr-1015-03734120075-173754550315527918.wav\"  # Substitua pelo caminho do seu arquivo\n",
        "\n",
        "# Transcrição\n",
        "result = model.transcribe(audio_file, language=\"pt\")  # Defina o idioma como 'pt' para português\n",
        "\n",
        "\n",
        "# Salvar em arquivo de texto\n",
        "with open(\"transcricao.txt\", \"w\", encoding=\"utf-8\") as f:\n",
        "    f.write(result[\"text\"])\n",
        "print(\"Transcrição salva como transcricao.txt\")"
      ],
      "metadata": {
        "colab": {
          "base_uri": "https://localhost:8080/"
        },
        "id": "Nh0OU6FBxRSA",
        "outputId": "cd4040ec-716f-4e42-ea92-bccfda6e37e4"
      },
      "execution_count": null,
      "outputs": [
        {
          "output_type": "stream",
          "name": "stderr",
          "text": [
            "/usr/local/lib/python3.11/dist-packages/whisper/transcribe.py:132: UserWarning: FP16 is not supported on CPU; using FP32 instead\n",
            "  warnings.warn(\"FP16 is not supported on CPU; using FP32 instead\")\n"
          ]
        }
      ]
    }
  ]
}
